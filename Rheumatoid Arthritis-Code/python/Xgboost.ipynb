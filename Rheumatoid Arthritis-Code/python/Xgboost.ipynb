{
 "cells": [
  {
   "cell_type": "code",
   "execution_count": 13,
   "metadata": {},
   "outputs": [],
   "source": [
    "import xgboost as xgb\n",
    "import pandas as pd\n",
    "import numpy as np\n",
    "from scipy import stats\n",
    "from sklearn.metrics import auc\n",
    "from sklearn.model_selection import train_test_split"
   ]
  },
  {
   "cell_type": "code",
   "execution_count": 14,
   "metadata": {},
   "outputs": [],
   "source": [
    "train = pd.read_csv('D:/work/Rheumatoid arthritis/data/train.csv')\n",
    "ar = np.array(train)\n",
    "rownames = ar[:,0]\n",
    "colnames = train.columns[1:]\n",
    "ar = ar[:,1:]\n",
    "train = pd.DataFrame(ar)\n",
    "train.index = rownames\n",
    "train.columns = colnames\n",
    "train = np.transpose(train)"
   ]
  },
  {
   "cell_type": "code",
   "execution_count": 15,
   "metadata": {},
   "outputs": [],
   "source": [
    "test = pd.read_csv('D:/work/Rheumatoid arthritis/data/test.csv')\n",
    "ar = np.array(test)\n",
    "rownames = ar[:,0]\n",
    "colnames = test.columns[1:]\n",
    "ar = ar[:,1:]\n",
    "test = pd.DataFrame(ar)\n",
    "test.index = rownames\n",
    "test.columns = colnames\n",
    "test = np.transpose(test)"
   ]
  },
  {
   "cell_type": "code",
   "execution_count": 16,
   "metadata": {},
   "outputs": [],
   "source": [
    "x = np.array(train)\n",
    "rownames = list(train.index)\n",
    "y = []\n",
    "for row in rownames:\n",
    "    if row[:2] == 'RA':\n",
    "        y.append(1)\n",
    "    if row[:2] == 'HC':\n",
    "        y.append(0)\n",
    "y = np.array(y)\n",
    "\n",
    "test_x = np.array(test)\n",
    "rownames = list(test.index)\n",
    "test_y = []\n",
    "for row in rownames:\n",
    "    if row[:2] == 'RA':\n",
    "        test_y.append(1)\n",
    "    if row[:2] == 'HC':\n",
    "        test_y.append(0)\n",
    "test_y = np.array(test_y)\n",
    "\n",
    "num_validations = 100\n",
    "num_cutoff = 100\n",
    "penalty = 'l1'\n",
    "C = 1\n",
    "validation_size = 100\n",
    "train_tpr_matrix = np.zeros((num_validations, num_cutoff))\n",
    "train_fpr_matrix = np.zeros((num_validations, num_cutoff))\n",
    "train_sens_matrix = np.zeros((num_validations, num_cutoff))\n",
    "train_spec_matrix = np.zeros((num_validations, num_cutoff))\n",
    "train_ppv_matrix = np.zeros((num_validations, num_cutoff))\n",
    "train_npv_matrix = np.zeros((num_validations, num_cutoff))\n",
    "test_tpr_matrix = np.zeros((num_validations, num_cutoff))\n",
    "test_fpr_matrix = np.zeros((num_validations, num_cutoff))\n",
    "test_sens_matrix = np.zeros((num_validations, num_cutoff))\n",
    "test_spec_matrix = np.zeros((num_validations, num_cutoff))\n",
    "test_ppv_matrix = np.zeros((num_validations, num_cutoff))\n",
    "test_npv_matrix = np.zeros((num_validations, num_cutoff))\n",
    "\n",
    "params={'booster':'gbtree',\n",
    "    'objective': 'binary:logistic',\n",
    "    'eval_metric': 'auc',\n",
    "    'max_depth':2,\n",
    "    'lambda':10,\n",
    "    'subsample':0.75,\n",
    "    'colsample_bytree':0.75,\n",
    "    'min_child_weight':2,\n",
    "    'eta': 0.001,\n",
    "    'seed':0,\n",
    "    'nthread':8}\n",
    "num_rounds = 500\n",
    "\n",
    "for i in range(num_validations):\n",
    "    train_x, validation_x, train_y, validation_y = train_test_split(x, y, test_size = validation_size)\n",
    "    \n",
    "    dtrain = xgb.DMatrix(train_x, train_y)\n",
    "    dtest = xgb.DMatrix(test_x)\n",
    "    model = xgb.train(params, dtrain, num_rounds)\n",
    "    \n",
    "    train_probability = list(model.predict(dtrain))\n",
    "    test_probability = list(model.predict(dtest))\n",
    "    \n",
    "    for j in range(num_cutoff):\n",
    "        cutoff = j / 100\n",
    "        tp, fp, tn, fn = 0, 0, 0, 0\n",
    "        for k in range(len(train_probability)):\n",
    "            if train_probability[k] >= cutoff and train_y[k] == 1:\n",
    "                tp += 1\n",
    "            elif train_probability[k] >= cutoff and train_y[k] == 0:\n",
    "                fp += 1\n",
    "            elif train_probability[k] < cutoff and train_y[k] == 0:\n",
    "                tn += 1\n",
    "            elif train_probability[k] < cutoff and train_y[k] == 1:\n",
    "                fn += 1\n",
    "        train_tpr_matrix[i,j] = tp / (tp + fn + 0.00001)\n",
    "        train_fpr_matrix[i,j] = fp / (fp + tn + 0.00001)\n",
    "        train_sens_matrix[i,j] = tp / (tp + fn + 0.00001)\n",
    "        train_spec_matrix[i,j] = tn / (tn + fp + 0.00001)\n",
    "        train_ppv_matrix[i,j] = tp / (tp + fp + 0.00001)\n",
    "        train_npv_matrix[i,j] = tn / (tn + fn + 0.00001)\n",
    "    \n",
    "    for j in range(num_cutoff):\n",
    "        cutoff = j / 100\n",
    "        tp, fp, tn, fn = 0, 0, 0, 0\n",
    "        for k in range(len(test_probability)):\n",
    "            if test_probability[k] >= cutoff and test_y[k] == 1:\n",
    "                tp += 1\n",
    "            elif test_probability[k] >= cutoff and test_y[k] == 0:\n",
    "                fp += 1\n",
    "            elif test_probability[k] < cutoff and test_y[k] == 0:\n",
    "                tn += 1\n",
    "            elif test_probability[k] < cutoff and test_y[k] == 1:\n",
    "                fn += 1\n",
    "        test_tpr_matrix[i,j] = tp / (tp + fn + 0.00001)\n",
    "        test_fpr_matrix[i,j] = fp / (fp + tn + 0.00001)\n",
    "        test_sens_matrix[i,j] = tp / (tp + fn + 0.00001)\n",
    "        test_spec_matrix[i,j] = tn / (tn + fp + 0.00001)\n",
    "        test_ppv_matrix[i,j] = tp / (tp + fp + 0.00001)\n",
    "        test_npv_matrix[i,j] = tn / (tn + fn + 0.00001)\n",
    "\n",
    "test_tpr_mean, test_tpr_up_mean, test_tpr_down_mean, test_fpr_mean, test_fpr_up_mean, test_fpr_down_mean, test_sens_mean, test_spec_mean, test_ppv_mean, test_npv_mean, test_auc_l, test_cutoff = [], [], [], [], [], [], [], [], [], [], [], []\n",
    "train_tpr_mean, train_tpr_up_mean, train_tpr_down_mean, train_fpr_mean, train_fpr_up_mean, train_fpr_down_mean, train_sens_mean, train_spec_mean, train_ppv_mean, train_npv_mean, train_auc_l, train_cutoff = [], [], [], [], [], [], [], [], [], [], [], []\n",
    "for i in range(num_validations):\n",
    "    train_auc_l.append(auc(train_fpr_matrix[i,:], train_tpr_matrix[i,:]))\n",
    "for i in range(num_validations):\n",
    "    test_auc_l.append(auc(test_fpr_matrix[i,:], test_tpr_matrix[i,:]))\n",
    "for j in range(num_cutoff):\n",
    "    train_cutoff.append(j / num_cutoff)\n",
    "    train_tpr_mean.append(np.mean(train_tpr_matrix[:,j]))\n",
    "    train_tpr_up_mean.append(np.mean(train_tpr_matrix[:,j]) + (np.std(train_tpr_matrix[:,j]) / num_validations) * 1.96)\n",
    "    train_tpr_down_mean.append(np.mean(train_tpr_matrix[:,j]) - (np.std(train_tpr_matrix[:,j]) / num_validations) * 1.96)\n",
    "    train_fpr_mean.append(np.mean(train_fpr_matrix[:,j]))\n",
    "    train_fpr_up_mean.append(np.mean(train_fpr_matrix[:,j]) + (np.std(train_fpr_matrix[:,j]) / num_validations) * 1.96)\n",
    "    train_fpr_down_mean.append(np.mean(train_fpr_matrix[:,j]) - (np.std(train_fpr_matrix[:,j]) / num_validations) * 1.96)\n",
    "    train_sens_mean.append(np.mean(train_sens_matrix[:,j]))\n",
    "    train_spec_mean.append(np.mean(train_spec_matrix[:,j]))\n",
    "    train_ppv_mean.append(np.mean(train_ppv_matrix[:,j]))\n",
    "    train_npv_mean.append(np.mean(train_npv_matrix[:,j]))\n",
    "    \n",
    "    test_cutoff.append(j / num_cutoff)\n",
    "    test_tpr_mean.append(np.mean(test_tpr_matrix[:,j]))\n",
    "    test_tpr_up_mean.append(np.mean(test_tpr_matrix[:,j]) + (np.std(test_tpr_matrix[:,j]) / num_validations) * 1.96)\n",
    "    test_tpr_down_mean.append(np.mean(test_tpr_matrix[:,j]) - (np.std(test_tpr_matrix[:,j]) / num_validations) * 1.96)\n",
    "    test_fpr_mean.append(np.mean(test_fpr_matrix[:,j]))\n",
    "    test_fpr_up_mean.append(np.mean(test_fpr_matrix[:,j]) + (np.std(test_fpr_matrix[:,j]) / num_validations) * 1.96)\n",
    "    test_fpr_down_mean.append(np.mean(test_fpr_matrix[:,j]) - (np.std(test_fpr_matrix[:,j]) / num_validations) * 1.96)\n",
    "    test_sens_mean.append(np.mean(test_sens_matrix[:,j]))\n",
    "    test_spec_mean.append(np.mean(test_spec_matrix[:,j]))\n",
    "    test_ppv_mean.append(np.mean(test_ppv_matrix[:,j]))\n",
    "    test_npv_mean.append(np.mean(test_npv_matrix[:,j]))"
   ]
  },
  {
   "cell_type": "code",
   "execution_count": 26,
   "metadata": {},
   "outputs": [
    {
     "name": "stdout",
     "output_type": "stream",
     "text": [
      "0.9175331706458455 0.00012389164202175143\n",
      "0.99934164429838 2.7544702912454617e-05\n",
      "0.9994632130256845 2.2458449469823523e-05\n",
      "0.9017710799671668 0.0001274735507285909\n"
     ]
    }
   ],
   "source": [
    "index=60\n",
    "print(np.mean(train_sens_matrix[:, index]), (np.std(train_sens_matrix[:, index]) / 100) * 1.96)\n",
    "print(np.mean(train_spec_matrix[:, index]), (np.std(train_spec_matrix[:, index]) / 100) * 1.96)\n",
    "print(np.mean(train_ppv_matrix[:, index]), (np.std(train_ppv_matrix[:, index]) / 100) * 1.96)\n",
    "print(np.mean(train_npv_matrix[:, index]), (np.std(train_npv_matrix[:, index]) / 100) * 1.96)"
   ]
  },
  {
   "cell_type": "code",
   "execution_count": 25,
   "metadata": {},
   "outputs": [
    {
     "name": "stdout",
     "output_type": "stream",
     "text": [
      "0.9552238805970149\n"
     ]
    }
   ],
   "source": [
    "train_x = x\n",
    "train_y = y\n",
    "dtrain = xgb.DMatrix(train_x, train_y)\n",
    "dtest = xgb.DMatrix(test_x)\n",
    "model = xgb.train(params, dtrain, num_rounds)\n",
    "train_probability = list(model.predict(dtrain))\n",
    "cutoff = 0.6\n",
    "tp, fp, tn, fn = 0, 0, 0, 0\n",
    "for k in range(len(train_probability)):\n",
    "    if train_probability[k] >= cutoff and train_y[k] == 1:\n",
    "        tp += 1\n",
    "    elif train_probability[k] >= cutoff and train_y[k] == 0:\n",
    "        fp += 1\n",
    "    elif train_probability[k] < cutoff and train_y[k] == 0:\n",
    "        tn += 1\n",
    "    elif train_probability[k] < cutoff and train_y[k] == 1:\n",
    "        fn += 1\n",
    "accuracy = (tp + tn) / (tp + fp + tn + fn)\n",
    "print(accuracy)"
   ]
  },
  {
   "cell_type": "code",
   "execution_count": 27,
   "metadata": {},
   "outputs": [
    {
     "name": "stdout",
     "output_type": "stream",
     "text": [
      "0.9985782849342539 5.694172757702876e-06\n"
     ]
    }
   ],
   "source": [
    "print(auc(train_fpr_mean, train_tpr_mean), (np.std(train_auc_l) / 100) * 1.96)"
   ]
  },
  {
   "cell_type": "code",
   "execution_count": 28,
   "metadata": {},
   "outputs": [
    {
     "data": {
      "text/plain": [
       "6.293632276067597e-148"
      ]
     },
     "execution_count": 28,
     "metadata": {},
     "output_type": "execute_result"
    }
   ],
   "source": [
    "stats.ttest_1samp(train_auc_l, 0.99).pvalue"
   ]
  },
  {
   "cell_type": "code",
   "execution_count": 5,
   "metadata": {},
   "outputs": [],
   "source": [
    "result = np.transpose(pd.DataFrame([train_tpr_up_mean, train_tpr_mean, train_tpr_down_mean, train_fpr_up_mean, train_fpr_mean, train_fpr_down_mean, train_sens_mean, train_spec_mean, train_ppv_mean, train_npv_mean], index = ['TPR_up', 'TPR', 'TPR_down', 'FPR_up', 'FPR', 'FPR_down', 'Sens', 'Spec', 'PPV', 'NPV'], columns=train_cutoff))\n",
    "result.to_csv('D:/work/Rheumatoid arthritis/result/modeling/Xgboost_train.csv')\n",
    "\n",
    "lasso_auc = pd.DataFrame(train_auc_l, columns = ['Xgboost'])\n",
    "lasso_auc.to_csv('D:/work/Rheumatoid arthritis/result/modeling/Xgboost_AUC_train.csv')"
   ]
  },
  {
   "cell_type": "code",
   "execution_count": 6,
   "metadata": {},
   "outputs": [],
   "source": [
    "result = np.transpose(pd.DataFrame([test_tpr_up_mean, test_tpr_mean, test_tpr_down_mean, test_fpr_up_mean, test_fpr_mean, test_fpr_down_mean, test_sens_mean, test_spec_mean, test_ppv_mean, test_npv_mean], index = ['TPR_up', 'TPR', 'TPR_down', 'FPR_up', 'FPR', 'FPR_down', 'Sens', 'Spec', 'PPV', 'NPV'], columns=test_cutoff))\n",
    "result.to_csv('D:/work/Rheumatoid arthritis/result/modeling/Xgboost_test.csv')\n",
    "\n",
    "lasso_auc = pd.DataFrame(test_auc_l, columns = ['Xgboost'])\n",
    "lasso_auc.to_csv('D:/work/Rheumatoid arthritis/result/modeling/Xgboost_AUC_test.csv')"
   ]
  }
 ],
 "metadata": {
  "kernelspec": {
   "display_name": "Python 3",
   "language": "python",
   "name": "python3"
  },
  "language_info": {
   "codemirror_mode": {
    "name": "ipython",
    "version": 3
   },
   "file_extension": ".py",
   "mimetype": "text/x-python",
   "name": "python",
   "nbconvert_exporter": "python",
   "pygments_lexer": "ipython3",
   "version": "3.7.6"
  }
 },
 "nbformat": 4,
 "nbformat_minor": 4
}
