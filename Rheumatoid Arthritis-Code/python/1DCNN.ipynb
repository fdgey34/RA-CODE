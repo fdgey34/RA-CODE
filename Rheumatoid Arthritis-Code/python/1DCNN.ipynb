{
 "cells": [
  {
   "cell_type": "code",
   "execution_count": 15,
   "metadata": {},
   "outputs": [],
   "source": [
    "import torch\n",
    "import torch.nn as nn\n",
    "from scipy import stats\n",
    "import numpy as np\n",
    "import pandas as pd\n",
    "import matplotlib.pyplot as plt\n",
    "from sklearn.metrics import auc\n",
    "from torch.autograd import Variable\n",
    "from sklearn.model_selection import train_test_split"
   ]
  },
  {
   "cell_type": "code",
   "execution_count": 2,
   "metadata": {},
   "outputs": [],
   "source": [
    "train = pd.read_csv('D:/work/Rheumatoid arthritis/data/train.csv')\n",
    "ar = np.array(train)\n",
    "rownames = ar[:,0]\n",
    "colnames = train.columns[1:]\n",
    "ar = ar[:,1:]\n",
    "train = pd.DataFrame(ar)\n",
    "train.index = rownames\n",
    "train.columns = colnames\n",
    "train = np.transpose(train)"
   ]
  },
  {
   "cell_type": "code",
   "execution_count": 3,
   "metadata": {},
   "outputs": [],
   "source": [
    "test = pd.read_csv('D:/work/Rheumatoid arthritis/data/test.csv')\n",
    "ar = np.array(test)\n",
    "rownames = ar[:,0]\n",
    "colnames = test.columns[1:]\n",
    "ar = ar[:,1:]\n",
    "test = pd.DataFrame(ar)\n",
    "test.index = rownames\n",
    "test.columns = colnames\n",
    "test = np.transpose(test)"
   ]
  },
  {
   "cell_type": "code",
   "execution_count": 4,
   "metadata": {},
   "outputs": [],
   "source": [
    "class CNN(nn.Module):\n",
    "    def __init__(self):\n",
    "        super(CNN, self).__init__()\n",
    "        self.conv1 = nn.Sequential(nn.Conv1d(in_channels = 1, out_channels = 2, kernel_size = 3, stride = 1, padding = 1), nn.BatchNorm1d(2), nn.ReLU(inplace=True))\n",
    "        self.pool1 = nn.Sequential(nn.MaxPool1d(kernel_size = 2, stride = 2))\n",
    "        self.conv2 = nn.Sequential(nn.Conv1d(in_channels = 2, out_channels = 4, kernel_size = 5, stride = 1, padding = 0), nn.BatchNorm1d(4), nn.ReLU(inplace=True))\n",
    "        self.pool2 = nn.Sequential(nn.MaxPool1d(kernel_size = 2, stride = 2))\n",
    "        self.fc = nn.Sequential(nn.Linear(4, 1), nn.Sigmoid())\n",
    "    def forward(self, train_x):\n",
    "        x = self.conv1(train_x)\n",
    "        x = self.pool1(x)\n",
    "        x = self.conv2(x)\n",
    "        x = self.pool2(x)\n",
    "        x = x.view(x.size(0), -1)\n",
    "        forward_y = self.fc(x)\n",
    "        return forward_y\n",
    "    \n",
    "def CNN_train(train_x, train_y, num_iterations, lr):\n",
    "    model = CNN()\n",
    "    optimizer = torch.optim.Adam(model.parameters(), lr = lr)\n",
    "    lossfunction = nn.BCELoss()\n",
    "    \n",
    "    l = []\n",
    "    for i in range(num_iterations):\n",
    "        optimizer.zero_grad()\n",
    "        \n",
    "        forward_y = model.forward(train_x)\n",
    "        loss = lossfunction(forward_y, train_y)\n",
    "        l.append(loss)\n",
    "        \n",
    "        loss.backward()\n",
    "        optimizer.step()\n",
    "    return model, l"
   ]
  },
  {
   "cell_type": "code",
   "execution_count": 5,
   "metadata": {},
   "outputs": [
    {
     "name": "stderr",
     "output_type": "stream",
     "text": [
      "C:\\Users\\win 10\\anaconda3\\lib\\site-packages\\ipykernel_launcher.py:50: UserWarning: To copy construct from a tensor, it is recommended to use sourceTensor.clone().detach() or sourceTensor.clone().detach().requires_grad_(True), rather than torch.tensor(sourceTensor).\n",
      "C:\\Users\\win 10\\anaconda3\\lib\\site-packages\\ipykernel_launcher.py:52: UserWarning: To copy construct from a tensor, it is recommended to use sourceTensor.clone().detach() or sourceTensor.clone().detach().requires_grad_(True), rather than torch.tensor(sourceTensor).\n"
     ]
    }
   ],
   "source": [
    "x = np.array(train)\n",
    "rownames = list(train.index)\n",
    "y = []\n",
    "for row in rownames:\n",
    "    if row[:2] == 'RA':\n",
    "        y.append(1)\n",
    "    if row[:2] == 'HC':\n",
    "        y.append(0)\n",
    "y = np.array(y)\n",
    "\n",
    "test_x = np.array(test)\n",
    "test_x = test_x.astype(np.float32)\n",
    "rownames = list(test.index)\n",
    "test_y = []\n",
    "for row in rownames:\n",
    "    if row[:2] == 'RA':\n",
    "        test_y.append(1)\n",
    "    if row[:2] == 'HC':\n",
    "        test_y.append(0)\n",
    "test_y = np.array(test_y)\n",
    "\n",
    "num_validations = 100\n",
    "num_cutoff = 100\n",
    "penalty = 'l1'\n",
    "C = 1\n",
    "validation_size = 100\n",
    "lr = 0.001\n",
    "num_iterations = 1000\n",
    "train_tpr_matrix = np.zeros((num_validations, num_cutoff))\n",
    "train_fpr_matrix = np.zeros((num_validations, num_cutoff))\n",
    "train_sens_matrix = np.zeros((num_validations, num_cutoff))\n",
    "train_spec_matrix = np.zeros((num_validations, num_cutoff))\n",
    "train_ppv_matrix = np.zeros((num_validations, num_cutoff))\n",
    "train_npv_matrix = np.zeros((num_validations, num_cutoff))\n",
    "test_tpr_matrix = np.zeros((num_validations, num_cutoff))\n",
    "test_fpr_matrix = np.zeros((num_validations, num_cutoff))\n",
    "test_sens_matrix = np.zeros((num_validations, num_cutoff))\n",
    "test_spec_matrix = np.zeros((num_validations, num_cutoff))\n",
    "test_ppv_matrix = np.zeros((num_validations, num_cutoff))\n",
    "test_npv_matrix = np.zeros((num_validations, num_cutoff))\n",
    "\n",
    "for i in range(num_validations):\n",
    "    train_x, validation_x, train_y, validation_y = train_test_split(x, y, test_size = validation_size)\n",
    "\n",
    "    train_x = train_x.astype(np.float32)\n",
    "    train_x = Variable(torch.tensor(train_x, dtype=torch.float32))\n",
    "    train_x = train_x.view(-1, 1, 15)\n",
    "    train_y = Variable(torch.tensor(train_y, dtype=torch.float32))\n",
    "    train_y = train_y.unsqueeze(1)\n",
    "    test_x = Variable(torch.tensor(test_x, dtype=torch.float32))\n",
    "    test_x = test_x.view(-1, 1, 15)\n",
    "    test_y = Variable(torch.tensor(test_y, dtype=torch.float32))\n",
    "    model, losses = CNN_train(train_x, train_y, num_iterations = num_iterations, lr = lr)\n",
    "    \n",
    "    train_probability = list(model.forward(train_x).data.numpy()[:,0])\n",
    "    test_probability = list(model.forward(test_x).data.numpy()[:,0])\n",
    "    \n",
    "    for j in range(num_cutoff):\n",
    "        cutoff = j / 100\n",
    "        tp, fp, tn, fn = 0, 0, 0, 0\n",
    "        for k in range(len(train_probability)):\n",
    "            if train_probability[k] >= cutoff and train_y[k] == 1:\n",
    "                tp += 1\n",
    "            elif train_probability[k] >= cutoff and train_y[k] == 0:\n",
    "                fp += 1\n",
    "            elif train_probability[k] < cutoff and train_y[k] == 0:\n",
    "                tn += 1\n",
    "            elif train_probability[k] < cutoff and train_y[k] == 1:\n",
    "                fn += 1\n",
    "        train_tpr_matrix[i,j] = tp / (tp + fn + 0.00001)\n",
    "        train_fpr_matrix[i,j] = fp / (fp + tn + 0.00001)\n",
    "        train_sens_matrix[i,j] = tp / (tp + fn + 0.00001)\n",
    "        train_spec_matrix[i,j] = tn / (tn + fp + 0.00001)\n",
    "        train_ppv_matrix[i,j] = tp / (tp + fp + 0.00001)\n",
    "        train_npv_matrix[i,j] = tn / (tn + fn + 0.00001)\n",
    "    \n",
    "    for j in range(num_cutoff):\n",
    "        cutoff = j / 100\n",
    "        tp, fp, tn, fn = 0, 0, 0, 0\n",
    "        for k in range(len(test_probability)):\n",
    "            if test_probability[k] >= cutoff and test_y[k] == 1:\n",
    "                tp += 1\n",
    "            elif test_probability[k] >= cutoff and test_y[k] == 0:\n",
    "                fp += 1\n",
    "            elif test_probability[k] < cutoff and test_y[k] == 0:\n",
    "                tn += 1\n",
    "            elif test_probability[k] < cutoff and test_y[k] == 1:\n",
    "                fn += 1\n",
    "        test_tpr_matrix[i,j] = tp / (tp + fn + 0.00001)\n",
    "        test_fpr_matrix[i,j] = fp / (fp + tn + 0.00001)\n",
    "        test_sens_matrix[i,j] = tp / (tp + fn + 0.00001)\n",
    "        test_spec_matrix[i,j] = tn / (tn + fp + 0.00001)\n",
    "        test_ppv_matrix[i,j] = tp / (tp + fp + 0.00001)\n",
    "        test_npv_matrix[i,j] = tn / (tn + fn + 0.00001)\n",
    "\n",
    "test_tpr_mean, test_tpr_up_mean, test_tpr_down_mean, test_fpr_mean, test_fpr_up_mean, test_fpr_down_mean, test_sens_mean, test_spec_mean, test_ppv_mean, test_npv_mean, test_auc_l, test_cutoff = [], [], [], [], [], [], [], [], [], [], [], []\n",
    "train_tpr_mean, train_tpr_up_mean, train_tpr_down_mean, train_fpr_mean, train_fpr_up_mean, train_fpr_down_mean, train_sens_mean, train_spec_mean, train_ppv_mean, train_npv_mean, train_auc_l, train_cutoff = [], [], [], [], [], [], [], [], [], [], [], []\n",
    "for i in range(num_validations):\n",
    "    train_auc_l.append(auc(train_fpr_matrix[i,:], train_tpr_matrix[i,:]))\n",
    "for i in range(num_validations):\n",
    "    test_auc_l.append(auc(test_fpr_matrix[i,:], test_tpr_matrix[i,:]))\n",
    "for j in range(num_cutoff):\n",
    "    train_cutoff.append(j / num_cutoff)\n",
    "    train_tpr_mean.append(np.mean(train_tpr_matrix[:,j]))\n",
    "    train_tpr_up_mean.append(np.mean(train_tpr_matrix[:,j]) + (np.std(train_tpr_matrix[:,j]) / num_validations) * 1.96)\n",
    "    train_tpr_down_mean.append(np.mean(train_tpr_matrix[:,j]) - (np.std(train_tpr_matrix[:,j]) / num_validations) * 1.96)\n",
    "    train_fpr_mean.append(np.mean(train_fpr_matrix[:,j]))\n",
    "    train_fpr_up_mean.append(np.mean(train_fpr_matrix[:,j]) + (np.std(train_fpr_matrix[:,j]) / num_validations) * 1.96)\n",
    "    train_fpr_down_mean.append(np.mean(train_fpr_matrix[:,j]) - (np.std(train_fpr_matrix[:,j]) / num_validations) * 1.96)\n",
    "    train_sens_mean.append(np.mean(train_sens_matrix[:,j]))\n",
    "    train_spec_mean.append(np.mean(train_spec_matrix[:,j]))\n",
    "    train_ppv_mean.append(np.mean(train_ppv_matrix[:,j]))\n",
    "    train_npv_mean.append(np.mean(train_npv_matrix[:,j]))\n",
    "    \n",
    "    test_cutoff.append(j / num_cutoff)\n",
    "    test_tpr_mean.append(np.mean(test_tpr_matrix[:,j]))\n",
    "    test_tpr_up_mean.append(np.mean(test_tpr_matrix[:,j]) + (np.std(test_tpr_matrix[:,j]) / num_validations) * 1.96)\n",
    "    test_tpr_down_mean.append(np.mean(test_tpr_matrix[:,j]) - (np.std(test_tpr_matrix[:,j]) / num_validations) * 1.96)\n",
    "    test_fpr_mean.append(np.mean(test_fpr_matrix[:,j]))\n",
    "    test_fpr_up_mean.append(np.mean(test_fpr_matrix[:,j]) + (np.std(test_fpr_matrix[:,j]) / num_validations) * 1.96)\n",
    "    test_fpr_down_mean.append(np.mean(test_fpr_matrix[:,j]) - (np.std(test_fpr_matrix[:,j]) / num_validations) * 1.96)\n",
    "    test_sens_mean.append(np.mean(test_sens_matrix[:,j]))\n",
    "    test_spec_mean.append(np.mean(test_spec_matrix[:,j]))\n",
    "    test_ppv_mean.append(np.mean(test_ppv_matrix[:,j]))\n",
    "    test_npv_mean.append(np.mean(test_npv_matrix[:,j]))"
   ]
  },
  {
   "cell_type": "code",
   "execution_count": 21,
   "metadata": {},
   "outputs": [
    {
     "name": "stdout",
     "output_type": "stream",
     "text": [
      "1.0\n"
     ]
    },
    {
     "name": "stderr",
     "output_type": "stream",
     "text": [
      "C:\\Users\\win 10\\anaconda3\\lib\\site-packages\\ipykernel_launcher.py:6: UserWarning: To copy construct from a tensor, it is recommended to use sourceTensor.clone().detach() or sourceTensor.clone().detach().requires_grad_(True), rather than torch.tensor(sourceTensor).\n",
      "  \n",
      "C:\\Users\\win 10\\anaconda3\\lib\\site-packages\\ipykernel_launcher.py:7: UserWarning: To copy construct from a tensor, it is recommended to use sourceTensor.clone().detach() or sourceTensor.clone().detach().requires_grad_(True), rather than torch.tensor(sourceTensor).\n",
      "  import sys\n"
     ]
    }
   ],
   "source": [
    "train_x = x.astype(np.float32)\n",
    "train_x = Variable(torch.tensor(train_x, dtype=torch.float32))\n",
    "train_x = train_x.view(-1, 1, 15)\n",
    "train_y = Variable(torch.tensor(y, dtype=torch.float32))\n",
    "train_y = train_y.unsqueeze(1)\n",
    "test_x = Variable(torch.tensor(test_x, dtype=torch.float32))\n",
    "test_y = Variable(torch.tensor(test_y, dtype=torch.float32))\n",
    "\n",
    "train_probability = list(model.forward(train_x).data.numpy()[:,0])\n",
    "cutoff = 0.6\n",
    "tp, fp, tn, fn = 0, 0, 0, 0\n",
    "for k in range(len(test_probability)):\n",
    "    if train_probability[k] >= cutoff and train_y[k] == 1:\n",
    "        tp += 1\n",
    "    elif train_probability[k] >= cutoff and train_y[k] == 0:\n",
    "        fp += 1\n",
    "    elif train_probability[k] < cutoff and train_y[k] == 0:\n",
    "        tn += 1\n",
    "    elif train_probability[k] < cutoff and train_y[k] == 1:\n",
    "        fn += 1\n",
    "accuracy = (tp + tn) / (tp + fp + tn + fn)\n",
    "print(accuracy)"
   ]
  },
  {
   "cell_type": "code",
   "execution_count": 22,
   "metadata": {},
   "outputs": [
    {
     "name": "stdout",
     "output_type": "stream",
     "text": [
      "0.9319827753984994 0.00013298286695352134\n",
      "0.9964212144491321 7.105947667131005e-05\n",
      "0.9971167025577256 5.687800702869226e-05\n",
      "0.9175934673542274 0.00015722049537926115\n"
     ]
    }
   ],
   "source": [
    "index=60\n",
    "print(np.mean(train_sens_matrix[:, index]), (np.std(train_sens_matrix[:, index]) / 100) * 1.96)\n",
    "print(np.mean(train_spec_matrix[:, index]), (np.std(train_spec_matrix[:, index]) / 100) * 1.96)\n",
    "print(np.mean(train_ppv_matrix[:, index]), (np.std(train_ppv_matrix[:, index]) / 100) * 1.96)\n",
    "print(np.mean(train_npv_matrix[:, index]), (np.std(train_npv_matrix[:, index]) / 100) * 1.96)"
   ]
  },
  {
   "cell_type": "code",
   "execution_count": 23,
   "metadata": {},
   "outputs": [
    {
     "name": "stdout",
     "output_type": "stream",
     "text": [
      "0.9963481080902838 2.2617854811441968e-05\n"
     ]
    }
   ],
   "source": [
    "print(auc(train_fpr_mean, train_tpr_mean), (np.std(train_auc_l) / 100) * 1.96)"
   ]
  },
  {
   "cell_type": "code",
   "execution_count": 24,
   "metadata": {},
   "outputs": [
    {
     "data": {
      "text/plain": [
       "2.405708471685861e-77"
      ]
     },
     "execution_count": 24,
     "metadata": {},
     "output_type": "execute_result"
    }
   ],
   "source": [
    "stats.ttest_1samp(train_auc_l, 0.99).pvalue"
   ]
  },
  {
   "cell_type": "code",
   "execution_count": 40,
   "metadata": {},
   "outputs": [],
   "source": [
    "result = np.transpose(pd.DataFrame([train_tpr_up_mean, train_tpr_mean, train_tpr_down_mean, train_fpr_up_mean, train_fpr_mean, train_fpr_down_mean, train_sens_mean, train_spec_mean, train_ppv_mean, train_npv_mean], index = ['TPR_up', 'TPR', 'TPR_down', 'FPR_up', 'FPR', 'FPR_down', 'Sens', 'Spec', 'PPV', 'NPV'], columns=train_cutoff))\n",
    "result.to_csv('D:/work/Rheumatoid arthritis/result/modeling/CNN_train.csv')\n",
    "\n",
    "lasso_auc = pd.DataFrame(train_auc_l, columns = ['CNN'])\n",
    "lasso_auc.to_csv('D:/work/Rheumatoid arthritis/result/modeling/CNN_AUC_train.csv')"
   ]
  },
  {
   "cell_type": "code",
   "execution_count": 41,
   "metadata": {},
   "outputs": [],
   "source": [
    "result = np.transpose(pd.DataFrame([test_tpr_up_mean, test_tpr_mean, test_tpr_down_mean, test_fpr_up_mean, test_fpr_mean, test_fpr_down_mean, test_sens_mean, test_spec_mean, test_ppv_mean, test_npv_mean], index = ['TPR_up', 'TPR', 'TPR_down', 'FPR_up', 'FPR', 'FPR_down', 'Sens', 'Spec', 'PPV', 'NPV'], columns=test_cutoff))\n",
    "result.to_csv('D:/work/Rheumatoid arthritis/result/modeling/CNN_test.csv')\n",
    "\n",
    "lasso_auc = pd.DataFrame(test_auc_l, columns = ['CNN'])\n",
    "lasso_auc.to_csv('D:/work/Rheumatoid arthritis/result/modeling/CNN_AUC_test.csv')"
   ]
  },
  {
   "cell_type": "code",
   "execution_count": 39,
   "metadata": {},
   "outputs": [
    {
     "data": {
      "image/png": "[encoded data removed]",
      "text/plain": [
       "<Figure size 1152x720 with 1 Axes>"
      ]
     },
     "metadata": {
      "needs_background": "light"
     },
     "output_type": "display_data"
    }
   ],
   "source": [
    "plt.figure(figsize=(16,10))\n",
    "formation={'family':'Arial','size':35}\n",
    "plt.xlabel('iterations',formation)\n",
    "plt.ylabel('loss',formation)\n",
    "plt.title('CNN',formation)\n",
    "plt.tick_params(labelsize=30)\n",
    "plt.plot(losses, linewidth=5)\n",
    "plt.savefig('D:/work/Rheumatoid arthritis/result/modeling/CNN_loss.png')"
   ]
  }
 ],
 "metadata": {
  "kernelspec": {
   "display_name": "Python 3",
   "language": "python",
   "name": "python3"
  },
  "language_info": {
   "codemirror_mode": {
    "name": "ipython",
    "version": 3
   },
   "file_extension": ".py",
   "mimetype": "text/x-python",
   "name": "python",
   "nbconvert_exporter": "python",
   "pygments_lexer": "ipython3",
   "version": "3.7.6"
  }
 },
 "nbformat": 4,
 "nbformat_minor": 4
}
